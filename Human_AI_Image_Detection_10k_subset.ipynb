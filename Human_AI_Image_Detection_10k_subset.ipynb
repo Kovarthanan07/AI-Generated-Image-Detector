{
 "cells": [
  {
   "cell_type": "code",
   "execution_count": 10,
   "metadata": {},
   "outputs": [],
   "source": [
    "\"\"\" \n",
    "Importing necessary libraries\n",
    "\"\"\"\n",
    "import pandas as pd\n",
    "import os\n",
    "import shutil"
   ]
  },
  {
   "cell_type": "code",
   "execution_count": null,
   "metadata": {},
   "outputs": [
    {
     "data": {
      "text/plain": [
       "' \\nReading the original df\\n'"
      ]
     },
     "execution_count": 4,
     "metadata": {},
     "output_type": "execute_result"
    }
   ],
   "source": [
    "\"\"\" \n",
    "Reading the original df\n",
    "\"\"\"\n",
    "df = pd.read_csv(\"train.csv\")"
   ]
  },
  {
   "cell_type": "code",
   "execution_count": null,
   "metadata": {},
   "outputs": [],
   "source": [
    "df.head()"
   ]
  },
  {
   "cell_type": "code",
   "execution_count": null,
   "metadata": {},
   "outputs": [],
   "source": [
    "\"\"\" \n",
    "As per the dataset:\n",
    " - Label 0 => Human Generated Image\n",
    " - Label 1 => AI Generated Image\n",
    "\"\"\"\n",
    "\n",
    "label_0 = df[df['label'] == 0]\n",
    "label_1 = df[df['label'] == 1]"
   ]
  },
  {
   "cell_type": "code",
   "execution_count": 7,
   "metadata": {},
   "outputs": [],
   "source": [
    "\"\"\" \n",
    "Out of 80,000 original image dataset, we are planning to use 10,000 images only due to the GPU constraints \n",
    "\"\"\"\n",
    "selected_size = 10000"
   ]
  },
  {
   "cell_type": "code",
   "execution_count": null,
   "metadata": {},
   "outputs": [],
   "source": [
    "\"\"\" \n",
    "Inorder to tackle the data imbalance issues: \n",
    " - 60% of images are labelled as 0\n",
    " - 40% of images are lablelled as 1 \n",
    "\"\"\"\n",
    "subset_label_0 = label_0.sample(\n",
    "    n=int(selected_size*0.6), random_state=42)  # 60% of 1000\n",
    "subset_label_1 = label_1.sample(\n",
    "    n=int(selected_size*0.4), random_state=42)  # 40% of 1000"
   ]
  },
  {
   "cell_type": "code",
   "execution_count": null,
   "metadata": {},
   "outputs": [],
   "source": [
    "# Combine into a single DataFrame\n",
    "subset_df = pd.concat([subset_label_0, subset_label_1]).sample(\n",
    "    frac=1, random_state=42)"
   ]
  },
  {
   "cell_type": "code",
   "execution_count": null,
   "metadata": {},
   "outputs": [],
   "source": [
    "# Create subset directory\n",
    "subset_dir = 'Dataset/subset_train_data'\n",
    "os.makedirs(subset_dir, exist_ok=True)\n",
    "\n",
    "# Copy images to subset directory\n",
    "for filename in subset_df['file_name']:\n",
    "    src_path = filename\n",
    "    dst_path = os.path.join(subset_dir, os.path.basename(filename))\n",
    "    shutil.copy(src_path, dst_path)"
   ]
  },
  {
   "cell_type": "code",
   "execution_count": null,
   "metadata": {},
   "outputs": [],
   "source": [
    "# Update filenames to point to the subset directory\n",
    "subset_df['file_name'] = subset_df['file_name'].apply(\n",
    "    lambda x: os.path.join(subset_dir, os.path.basename(x))\n",
    ")"
   ]
  },
  {
   "cell_type": "code",
   "execution_count": null,
   "metadata": {},
   "outputs": [],
   "source": [
    "# Save subset CSV\n",
    "subset_df.to_csv('subset_train.csv', index=False)"
   ]
  }
 ],
 "metadata": {
  "kernelspec": {
   "display_name": ".venv",
   "language": "python",
   "name": "python3"
  },
  "language_info": {
   "codemirror_mode": {
    "name": "ipython",
    "version": 3
   },
   "file_extension": ".py",
   "mimetype": "text/x-python",
   "name": "python",
   "nbconvert_exporter": "python",
   "pygments_lexer": "ipython3",
   "version": "3.10.4"
  }
 },
 "nbformat": 4,
 "nbformat_minor": 2
}
