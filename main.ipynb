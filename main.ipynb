{
 "cells": [
  {
   "cell_type": "markdown",
   "metadata": {},
   "source": []
  },
  {
   "cell_type": "code",
   "execution_count": 27,
   "metadata": {},
   "outputs": [],
   "source": [
    "\"\"\"\n",
    "Importing dataset. \n",
    "\"\"\"\n",
    "import torch\n",
    "import pandas as pd\n",
    "from sklearn.model_selection import train_test_split\n",
    "from PIL import Image\n",
    "import matplotlib.pyplot as plt\n",
    "import random\n",
    "from PIL import Image \n",
    "from torch.utils.data import DataLoader, Dataset\n",
    "import os\n",
    "import torchvision.transforms as transforms"
   ]
  },
  {
   "cell_type": "code",
   "execution_count": null,
   "metadata": {},
   "outputs": [],
   "source": [
    "# Setting up the root folder\n",
    "root_folder = \"Dataset/\""
   ]
  },
  {
   "cell_type": "code",
   "execution_count": null,
   "metadata": {},
   "outputs": [
    {
     "name": "stdout",
     "output_type": "stream",
     "text": [
      "Device Running on: mps\n"
     ]
    }
   ],
   "source": [
    "if torch.backends.mps.is_available():\n",
    "    device = torch.device(\"mps\")  # Apple Silicon GPU\n",
    "elif torch.cuda.is_available():\n",
    "    device = torch.device(\"cuda\")  # NVIDIA GPU\n",
    "else:\n",
    "    device = torch.device(\"cpu\")  # if no GPU, then CPU\n",
    "\n",
    "print(\"Device Running on:\", device)"
   ]
  },
  {
   "cell_type": "code",
   "execution_count": null,
   "metadata": {},
   "outputs": [],
   "source": [
    "# importing dataset \n",
    "df = pd.read_csv(root_folder+\"subset_train.csv\")"
   ]
  },
  {
   "cell_type": "code",
   "execution_count": null,
   "metadata": {},
   "outputs": [
    {
     "data": {
      "text/html": [
       "<div>\n",
       "<style scoped>\n",
       "    .dataframe tbody tr th:only-of-type {\n",
       "        vertical-align: middle;\n",
       "    }\n",
       "\n",
       "    .dataframe tbody tr th {\n",
       "        vertical-align: top;\n",
       "    }\n",
       "\n",
       "    .dataframe thead th {\n",
       "        text-align: right;\n",
       "    }\n",
       "</style>\n",
       "<table border=\"1\" class=\"dataframe\">\n",
       "  <thead>\n",
       "    <tr style=\"text-align: right;\">\n",
       "      <th></th>\n",
       "      <th>Unnamed: 0</th>\n",
       "      <th>file_name</th>\n",
       "      <th>label</th>\n",
       "    </tr>\n",
       "  </thead>\n",
       "  <tbody>\n",
       "    <tr>\n",
       "      <th>0</th>\n",
       "      <td>7230</td>\n",
       "      <td>subset_train_data/872586102a8e44738ca8fa97046c...</td>\n",
       "      <td>1</td>\n",
       "    </tr>\n",
       "    <tr>\n",
       "      <th>1</th>\n",
       "      <td>3021</td>\n",
       "      <td>subset_train_data/5ba3fef1f8cb42cea0d3f43b98e6...</td>\n",
       "      <td>0</td>\n",
       "    </tr>\n",
       "    <tr>\n",
       "      <th>2</th>\n",
       "      <td>49745</td>\n",
       "      <td>subset_train_data/0f1ed6e90603411a89122c6de6e9...</td>\n",
       "      <td>0</td>\n",
       "    </tr>\n",
       "    <tr>\n",
       "      <th>3</th>\n",
       "      <td>60079</td>\n",
       "      <td>subset_train_data/f6422ac852aa4ab2a30ef9db7196...</td>\n",
       "      <td>0</td>\n",
       "    </tr>\n",
       "    <tr>\n",
       "      <th>4</th>\n",
       "      <td>3465</td>\n",
       "      <td>subset_train_data/0a7b016a42f14e1d9ba7fa98953c...</td>\n",
       "      <td>0</td>\n",
       "    </tr>\n",
       "  </tbody>\n",
       "</table>\n",
       "</div>"
      ],
      "text/plain": [
       "   Unnamed: 0                                          file_name  label\n",
       "0        7230  subset_train_data/872586102a8e44738ca8fa97046c...      1\n",
       "1        3021  subset_train_data/5ba3fef1f8cb42cea0d3f43b98e6...      0\n",
       "2       49745  subset_train_data/0f1ed6e90603411a89122c6de6e9...      0\n",
       "3       60079  subset_train_data/f6422ac852aa4ab2a30ef9db7196...      0\n",
       "4        3465  subset_train_data/0a7b016a42f14e1d9ba7fa98953c...      0"
      ]
     },
     "execution_count": 9,
     "metadata": {},
     "output_type": "execute_result"
    }
   ],
   "source": [
    "df.head()"
   ]
  },
  {
   "cell_type": "code",
   "execution_count": 10,
   "metadata": {},
   "outputs": [
    {
     "name": "stdout",
     "output_type": "stream",
     "text": [
      "label\n",
      "0    6000\n",
      "1    4000\n",
      "Name: count, dtype: int64\n"
     ]
    }
   ],
   "source": [
    "print(df['label'].value_counts())"
   ]
  },
  {
   "cell_type": "markdown",
   "metadata": {},
   "source": [
    "This dataset contains 6000 real images and 4000 AI genertaed images. "
   ]
  },
  {
   "cell_type": "code",
   "execution_count": 18,
   "metadata": {},
   "outputs": [],
   "source": [
    "def show_random_image(df):\n",
    "    \"\"\"\n",
    "    Display a random image from the dataset with its label.\n",
    "    \"\"\"\n",
    "\n",
    "    # Choosing the random index\n",
    "    index = random.randint(0, len(df) - 1)\n",
    "\n",
    "    # Loading path and label\n",
    "    file_name = df.iloc[index]['file_name']\n",
    "    label = df.iloc[index]['label']\n",
    "\n",
    "    # Load the image \n",
    "    image = Image.open(root_folder + file_name).convert('RGB')\n",
    "\n",
    "    # Convert label\n",
    "    label_text = \"Real\" if label == 0 else \"AI-Generated\"\n",
    "\n",
    "    # Visualization\n",
    "    plt.figure(figsize=(6, 6))\n",
    "    plt.imshow(image)\n",
    "    plt.axis(\"off\")\n",
    "    plt.title(f\"Label: {label_text}\", fontsize=14, color=\"red\")\n",
    "    plt.show()"
   ]
  },
  {
   "cell_type": "code",
   "execution_count": null,
   "metadata": {},
   "outputs": [],
   "source": [
    "show_random_image(df)"
   ]
  },
  {
   "cell_type": "code",
   "execution_count": 23,
   "metadata": {},
   "outputs": [],
   "source": [
    "\"\"\" \n",
    "Splitting dataset for training and testing\n",
    " - test_size = 20% \n",
    "\"\"\"\n",
    "train_df, val_df = train_test_split(df, test_size=0.2, random_state=42)"
   ]
  },
  {
   "cell_type": "code",
   "execution_count": 21,
   "metadata": {},
   "outputs": [
    {
     "name": "stdout",
     "output_type": "stream",
     "text": [
      "label\n",
      "0    4815\n",
      "1    3185\n",
      "Name: count, dtype: int64\n"
     ]
    }
   ],
   "source": [
    "print(train_df['label'].value_counts())"
   ]
  },
  {
   "cell_type": "code",
   "execution_count": 22,
   "metadata": {},
   "outputs": [
    {
     "name": "stdout",
     "output_type": "stream",
     "text": [
      "label\n",
      "0    1185\n",
      "1     815\n",
      "Name: count, dtype: int64\n"
     ]
    }
   ],
   "source": [
    "print(val_df['label'].value_counts())"
   ]
  },
  {
   "cell_type": "markdown",
   "metadata": {},
   "source": [
    "# CNN with Frequency Domain - Model 1"
   ]
  },
  {
   "cell_type": "code",
   "execution_count": 28,
   "metadata": {},
   "outputs": [],
   "source": [
    "\"\"\"\n",
    "Preprocessing and argumentation for the training and testing dataset. \n",
    "\"\"\"\n",
    "\n",
    "transform_train = transforms.Compose([\n",
    "    \n",
    "    # Resize the image to 224 * 224  \n",
    "    transforms.Resize((224, 224)),  \n",
    "\n",
    "    # Randomly flip dataset  \n",
    "    transforms.RandomHorizontalFlip(),\n",
    "\n",
    "    # Convert the image to PyTorch Tensor\n",
    "    transforms.ToTensor(),\n",
    "\n",
    "    # Normalizing the image, using imagenet mean and standard deviation\n",
    "    transforms.Normalize(mean=[0.485, 0.456, 0.406],\n",
    "                         std=[0.229, 0.224, 0.225])\n",
    "])\n",
    "\n",
    "\n",
    "transform_val = transforms.Compose([\n",
    "\n",
    "    # Resize the image to 224 * 224\n",
    "    transforms.Resize((224, 224)),\n",
    "\n",
    "    # Convert the image to PyTorch Tensor\n",
    "    transforms.ToTensor(),\n",
    "\n",
    "    # Normalizing the image, using imagenet mean and standard deviation\n",
    "    transforms.Normalize(mean=[0.485, 0.456, 0.406],\n",
    "                         std=[0.229, 0.224, 0.225])\n",
    "])"
   ]
  },
  {
   "cell_type": "code",
   "execution_count": 25,
   "metadata": {},
   "outputs": [],
   "source": [
    "\"\"\"  \n",
    "A Custom PyTorch Dataset to load images and labels from the dataset. \n",
    "\n",
    "Arguments : \n",
    "    dataframe - imported dataset. \n",
    "    image_dir - directory of image dataset\n",
    "    transform - transformation for image\n",
    "    file_name_col - column name of the image path from dataset\n",
    "    label_col - column name of the labels (real or fake) from dataset\n",
    "\"\"\"\n",
    "\n",
    "class CNN_FD_Dataset(Dataset):\n",
    "    def __init__(self, dataframe, image_dir, transform=None, file_name_col='file_name', label_col='label'):\n",
    "      self.dataframe = dataframe\n",
    "      self.transform = transform\n",
    "      self.image_dir = image_dir\n",
    "      self.file_name_col = file_name_col\n",
    "      self.label_col = label_col\n",
    "\n",
    "    def __len__(self):\n",
    "      return len(self.dataframe)\n",
    "\n",
    "    def __getitem__(self, idx):\n",
    "\n",
    "      # File name from dataset \n",
    "      img_file = self.dataframe.iloc[idx][self.file_name_col]\n",
    "      \n",
    "      # Setting up the image path\n",
    "      img_file = os.path.basename(img_file)\n",
    "      img_path = os.path.join(self.image_dir, img_file)\n",
    "\n",
    "      # Check the label, if not there assign -1\n",
    "      if self.label_col is not None and self.label_col in self.dataframe.columns:\n",
    "          label = self.dataframe.iloc[idx][self.label_col]\n",
    "      else:\n",
    "          label = -1\n",
    "\n",
    "      # if no image in directory, warning message\n",
    "      if not os.path.exists(img_path):\n",
    "          print(\"Warning: Image path does not exist : \", img_path)\n",
    "\n",
    "      # Apply transformation for the image\n",
    "      image = Image.open(img_path).convert('RGB')\n",
    "      if self.transform:\n",
    "          image = self.transform(image)\n",
    "      return image, label"
   ]
  },
  {
   "cell_type": "code",
   "execution_count": 26,
   "metadata": {},
   "outputs": [],
   "source": [
    "# Setting up batch size\n",
    "batch_size = 32"
   ]
  },
  {
   "cell_type": "code",
   "execution_count": 29,
   "metadata": {},
   "outputs": [],
   "source": [
    "\"\"\"\n",
    "Initialization of training and testing dataset using custom dataset (CNN_FD_Dataset)\n",
    "\"\"\"\n",
    "\n",
    "# Training dataset initialization \n",
    "train_dataset = CNN_FD_Dataset(train_df,\n",
    "                              image_dir=root_folder + \"/subset_train_data\",\n",
    "                              transform=transform_train)\n",
    "\n",
    "# Testing dataset initialization\n",
    "val_dataset = CNN_FD_Dataset(val_df,\n",
    "                            image_dir=root_folder + \"/subset_train_data\",\n",
    "                            transform=transform_val)"
   ]
  },
  {
   "cell_type": "code",
   "execution_count": null,
   "metadata": {},
   "outputs": [],
   "source": []
  },
  {
   "cell_type": "code",
   "execution_count": null,
   "metadata": {},
   "outputs": [],
   "source": []
  },
  {
   "cell_type": "code",
   "execution_count": null,
   "metadata": {},
   "outputs": [],
   "source": []
  },
  {
   "cell_type": "markdown",
   "metadata": {},
   "source": [
    "# SWIN Transformer - Model 2"
   ]
  },
  {
   "cell_type": "code",
   "execution_count": null,
   "metadata": {},
   "outputs": [],
   "source": []
  },
  {
   "cell_type": "markdown",
   "metadata": {},
   "source": [
    "# Hybrid Model (Model 1 + Model 2)"
   ]
  },
  {
   "cell_type": "code",
   "execution_count": null,
   "metadata": {},
   "outputs": [],
   "source": []
  },
  {
   "cell_type": "code",
   "execution_count": null,
   "metadata": {},
   "outputs": [],
   "source": []
  },
  {
   "cell_type": "code",
   "execution_count": null,
   "metadata": {},
   "outputs": [],
   "source": []
  }
 ],
 "metadata": {
  "kernelspec": {
   "display_name": ".venv",
   "language": "python",
   "name": "python3"
  },
  "language_info": {
   "codemirror_mode": {
    "name": "ipython",
    "version": 3
   },
   "file_extension": ".py",
   "mimetype": "text/x-python",
   "name": "python",
   "nbconvert_exporter": "python",
   "pygments_lexer": "ipython3",
   "version": "3.10.4"
  }
 },
 "nbformat": 4,
 "nbformat_minor": 2
}
